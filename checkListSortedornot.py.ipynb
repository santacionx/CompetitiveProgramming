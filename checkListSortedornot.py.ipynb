{
 "cells": [
  {
   "cell_type": "markdown",
   "id": "a511b88a",
   "metadata": {},
   "source": [
    "## check sort for array using recursion approch 1 and 2"
   ]
  },
  {
   "cell_type": "code",
   "execution_count": 12,
   "id": "c88854d0",
   "metadata": {},
   "outputs": [],
   "source": [
    "def check(a):\n",
    "    l=len(a)\n",
    "    if(l==0 or l==1):\n",
    "        return True\n",
    "    if a[0]>a[1]:\n",
    "        return False\n",
    "    smallerlist=a[1:]\n",
    "# huge space wastage \n",
    "    return check(smallerlist)"
   ]
  },
  {
   "cell_type": "code",
   "execution_count": 13,
   "id": "fdb949b6",
   "metadata": {},
   "outputs": [
    {
     "name": "stdout",
     "output_type": "stream",
     "text": [
      "True\n"
     ]
    }
   ],
   "source": [
    "a=[1,2,3,4,5,6]\n",
    "print(check(a))"
   ]
  },
  {
   "cell_type": "code",
   "execution_count": 4,
   "id": "5f57fcca",
   "metadata": {},
   "outputs": [],
   "source": [
    "# sum of array"
   ]
  },
  {
   "cell_type": "code",
   "execution_count": 32,
   "id": "2981600f",
   "metadata": {},
   "outputs": [],
   "source": [
    "def findsum(a,n):\n",
    "    if n==0:\n",
    "        return 0\n",
    "    return a[n-1]+findsum(a,n-1)\n"
   ]
  },
  {
   "cell_type": "code",
   "execution_count": 33,
   "id": "36db91b4",
   "metadata": {},
   "outputs": [
    {
     "name": "stdout",
     "output_type": "stream",
     "text": [
      "6\n"
     ]
    }
   ],
   "source": [
    "a=[1,2,3]\n",
    "n=len(a)\n",
    "print(findsum(a,n))"
   ]
  },
  {
   "cell_type": "code",
   "execution_count": 34,
   "id": "45ca7b11",
   "metadata": {},
   "outputs": [],
   "source": [
    "# check sort better type 1 and 2"
   ]
  },
  {
   "cell_type": "code",
   "execution_count": 35,
   "id": "393c006f",
   "metadata": {},
   "outputs": [],
   "source": [
    "def sbetter(a,si):\n",
    "    l=len(a)\n",
    "    if si==l-1 or si==l:\n",
    "        return true;\n",
    "    if a[si]>a[si+1]:\n",
    "        return false\n",
    "    return(a,si+1)"
   ]
  },
  {
   "cell_type": "code",
   "execution_count": 36,
   "id": "9bf2b891",
   "metadata": {},
   "outputs": [],
   "source": [
    "def sbs(a,n):\n",
    "    if n<=0:\n",
    "        return True;\n",
    "    if a[0]>a[1]:\n",
    "        return False\n",
    "    return sbs(a,n-1)"
   ]
  },
  {
   "cell_type": "code",
   "execution_count": 37,
   "id": "f3fff8f1",
   "metadata": {},
   "outputs": [
    {
     "name": "stdout",
     "output_type": "stream",
     "text": [
      "False\n"
     ]
    }
   ],
   "source": [
    "a=[9,2,3,4,5]\n",
    "n=len(a)\n",
    "print(sbs(a,n))"
   ]
  },
  {
   "cell_type": "code",
   "execution_count": null,
   "id": "08973f41",
   "metadata": {},
   "outputs": [],
   "source": []
  },
  {
   "cell_type": "code",
   "execution_count": null,
   "id": "f6b32966",
   "metadata": {},
   "outputs": [],
   "source": []
  }
 ],
 "metadata": {
  "kernelspec": {
   "display_name": "Python 3 (ipykernel)",
   "language": "python",
   "name": "python3"
  },
  "language_info": {
   "codemirror_mode": {
    "name": "ipython",
    "version": 3
   },
   "file_extension": ".py",
   "mimetype": "text/x-python",
   "name": "python",
   "nbconvert_exporter": "python",
   "pygments_lexer": "ipython3",
   "version": "3.11.3"
  }
 },
 "nbformat": 4,
 "nbformat_minor": 5
}
