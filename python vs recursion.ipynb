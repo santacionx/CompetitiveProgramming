{
 "cells": [
  {
   "cell_type": "code",
   "execution_count": null,
   "id": "d08911b0",
   "metadata": {},
   "outputs": [],
   "source": [
    "import sys\n",
    "sys.setrecursionlimit(3000)\n",
    "def fact(n):\n",
    "    if n==0 or n==1:\n",
    "        return 1;\n",
    "    return n*fact(n-1);\n"
   ]
  },
  {
   "cell_type": "code",
   "execution_count": null,
   "id": "08373477",
   "metadata": {},
   "outputs": [],
   "source": [
    "n=int(input())\n",
    "print(fact(n))"
   ]
  },
  {
   "cell_type": "code",
   "execution_count": null,
   "id": "88a7478e",
   "metadata": {},
   "outputs": [],
   "source": []
  }
 ],
 "metadata": {
  "kernelspec": {
   "display_name": "Python 3 (ipykernel)",
   "language": "python",
   "name": "python3"
  },
  "language_info": {
   "codemirror_mode": {
    "name": "ipython",
    "version": 3
   },
   "file_extension": ".py",
   "mimetype": "text/x-python",
   "name": "python",
   "nbconvert_exporter": "python",
   "pygments_lexer": "ipython3",
   "version": "3.11.3"
  }
 },
 "nbformat": 4,
 "nbformat_minor": 5
}
