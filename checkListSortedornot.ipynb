{
 "cells": [
  {
   "cell_type": "markdown",
   "id": "ebf12643",
   "metadata": {},
   "source": [
    "## check sort for array using recursion approch 1 and 2"
   ]
  },
  {
   "cell_type": "code",
   "execution_count": 12,
   "id": "c072c2d4",
   "metadata": {},
   "outputs": [],
   "source": [
    "def check(a):\n",
    "    l=len(a)\n",
    "    if(l==0 or l==1):\n",
    "        return True\n",
    "    if a[0]>a[1]:\n",
    "        return False\n",
    "    smallerlist=a[1:]\n",
    "# huge space wastage \n",
    "    return check(smallerlist)"
   ]
  },
  {
   "cell_type": "code",
   "execution_count": 13,
   "id": "5013489e",
   "metadata": {},
   "outputs": [
    {
     "name": "stdout",
     "output_type": "stream",
     "text": [
      "True\n"
     ]
    }
   ],
   "source": [
    "a=[1,2,3,4,5,6]\n",
    "print(check(a))"
   ]
  },
  {
   "cell_type": "code",
   "execution_count": 4,
   "id": "8e9e16d5",
   "metadata": {},
   "outputs": [],
   "source": [
    "# sum of array"
   ]
  },
  {
   "cell_type": "code",
   "execution_count": 28,
   "id": "b0075c98",
   "metadata": {},
   "outputs": [],
   "source": [
    "def findsum(a):\n",
    "    l=len(a)\n",
    "    if l<=0:\n",
    "        return a\n",
    "    slist=a[1:]\n",
    "    return a+findsum(slist)"
   ]
  },
  {
   "cell_type": "code",
   "execution_count": 29,
   "id": "49ea6af6",
   "metadata": {},
   "outputs": [
    {
     "name": "stdout",
     "output_type": "stream",
     "text": [
      "[1, 2, 3, 4, 5, 6, 2, 3, 4, 5, 6, 3, 4, 5, 6, 4, 5, 6, 5, 6, 6]\n"
     ]
    }
   ],
   "source": [
    "a=[1,2,3,4,5,6]\n",
    "print(findsum(a))"
   ]
  },
  {
   "cell_type": "code",
   "execution_count": null,
   "id": "ea6ddffb",
   "metadata": {},
   "outputs": [],
   "source": [
    "# check number"
   ]
  },
  {
   "cell_type": "code",
   "execution_count": 30,
   "id": "300e73e0",
   "metadata": {},
   "outputs": [],
   "source": [
    "def sbetter(a,si):\n",
    "    l=len(a)\n",
    "    if si==l-1 or si==l:\n",
    "        return true;\n",
    "    if a[si]>a[si+1]:\n",
    "        return false\n",
    "    return(a,si+1)"
   ]
  },
  {
   "cell_type": "code",
   "execution_count": null,
   "id": "9b4825b8",
   "metadata": {},
   "outputs": [],
   "source": [
    "def sbs(a,n):\n",
    "    if n==0:\n",
    "        return true;\n",
    "    if a[0]>a[1]:\n",
    "        return false\n",
    "    return(a,n-1)"
   ]
  },
  {
   "cell_type": "code",
   "execution_count": null,
   "id": "a36dcbcf",
   "metadata": {},
   "outputs": [],
   "source": [
    "int a=[1,2,3,4,5]\n",
    "int n=len(a)\n",
    "print(sbs(a,n))"
   ]
  },
  {
   "cell_type": "code",
   "execution_count": null,
   "id": "0408f904",
   "metadata": {},
   "outputs": [],
   "source": []
  }
 ],
 "metadata": {
  "kernelspec": {
   "display_name": "Python 3 (ipykernel)",
   "language": "python",
   "name": "python3"
  },
  "language_info": {
   "codemirror_mode": {
    "name": "ipython",
    "version": 3
   },
   "file_extension": ".py",
   "mimetype": "text/x-python",
   "name": "python",
   "nbconvert_exporter": "python",
   "pygments_lexer": "ipython3",
   "version": "3.11.3"
  }
 },
 "nbformat": 4,
 "nbformat_minor": 5
}
